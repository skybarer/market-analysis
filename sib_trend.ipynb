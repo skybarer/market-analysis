{
 "cells": [
  {
   "cell_type": "code",
   "execution_count": 14,
   "id": "ee49c4bd-60d5-487a-bf2b-074f697cc40f",
   "metadata": {},
   "outputs": [],
   "source": [
    "import numpy as np\n",
    "import pandas as pd\n",
    "import matplotlib.pyplot as plt\n",
    "from scipy import stats as st"
   ]
  },
  {
   "cell_type": "code",
   "execution_count": 15,
   "id": "2513a7df-dd96-4b87-8479-dd233051d4ba",
   "metadata": {},
   "outputs": [
    {
     "data": {
      "text/html": [
       "<div>\n",
       "<style scoped>\n",
       "    .dataframe tbody tr th:only-of-type {\n",
       "        vertical-align: middle;\n",
       "    }\n",
       "\n",
       "    .dataframe tbody tr th {\n",
       "        vertical-align: top;\n",
       "    }\n",
       "\n",
       "    .dataframe thead th {\n",
       "        text-align: right;\n",
       "    }\n",
       "</style>\n",
       "<table border=\"1\" class=\"dataframe\">\n",
       "  <thead>\n",
       "    <tr style=\"text-align: right;\">\n",
       "      <th></th>\n",
       "      <th>Year</th>\n",
       "      <th>Start_Price</th>\n",
       "      <th>End_Price</th>\n",
       "      <th>Price_Difference</th>\n",
       "      <th>YoY_Change</th>\n",
       "    </tr>\n",
       "  </thead>\n",
       "  <tbody>\n",
       "    <tr>\n",
       "      <th>0</th>\n",
       "      <td>2009</td>\n",
       "      <td>150</td>\n",
       "      <td>180</td>\n",
       "      <td>30</td>\n",
       "      <td>20.000000</td>\n",
       "    </tr>\n",
       "    <tr>\n",
       "      <th>1</th>\n",
       "      <td>2010</td>\n",
       "      <td>180</td>\n",
       "      <td>200</td>\n",
       "      <td>20</td>\n",
       "      <td>11.111111</td>\n",
       "    </tr>\n",
       "    <tr>\n",
       "      <th>2</th>\n",
       "      <td>2011</td>\n",
       "      <td>200</td>\n",
       "      <td>250</td>\n",
       "      <td>50</td>\n",
       "      <td>25.000000</td>\n",
       "    </tr>\n",
       "    <tr>\n",
       "      <th>3</th>\n",
       "      <td>2012</td>\n",
       "      <td>250</td>\n",
       "      <td>300</td>\n",
       "      <td>50</td>\n",
       "      <td>20.000000</td>\n",
       "    </tr>\n",
       "    <tr>\n",
       "      <th>4</th>\n",
       "      <td>2013</td>\n",
       "      <td>300</td>\n",
       "      <td>350</td>\n",
       "      <td>50</td>\n",
       "      <td>16.666667</td>\n",
       "    </tr>\n",
       "    <tr>\n",
       "      <th>5</th>\n",
       "      <td>2014</td>\n",
       "      <td>350</td>\n",
       "      <td>400</td>\n",
       "      <td>50</td>\n",
       "      <td>14.285714</td>\n",
       "    </tr>\n",
       "    <tr>\n",
       "      <th>6</th>\n",
       "      <td>2015</td>\n",
       "      <td>400</td>\n",
       "      <td>450</td>\n",
       "      <td>50</td>\n",
       "      <td>12.500000</td>\n",
       "    </tr>\n",
       "    <tr>\n",
       "      <th>7</th>\n",
       "      <td>2016</td>\n",
       "      <td>450</td>\n",
       "      <td>500</td>\n",
       "      <td>50</td>\n",
       "      <td>11.111111</td>\n",
       "    </tr>\n",
       "    <tr>\n",
       "      <th>8</th>\n",
       "      <td>2017</td>\n",
       "      <td>500</td>\n",
       "      <td>550</td>\n",
       "      <td>50</td>\n",
       "      <td>10.000000</td>\n",
       "    </tr>\n",
       "    <tr>\n",
       "      <th>9</th>\n",
       "      <td>2018</td>\n",
       "      <td>550</td>\n",
       "      <td>600</td>\n",
       "      <td>50</td>\n",
       "      <td>9.090909</td>\n",
       "    </tr>\n",
       "    <tr>\n",
       "      <th>10</th>\n",
       "      <td>2019</td>\n",
       "      <td>600</td>\n",
       "      <td>650</td>\n",
       "      <td>50</td>\n",
       "      <td>8.333333</td>\n",
       "    </tr>\n",
       "    <tr>\n",
       "      <th>11</th>\n",
       "      <td>2020</td>\n",
       "      <td>650</td>\n",
       "      <td>700</td>\n",
       "      <td>50</td>\n",
       "      <td>7.692308</td>\n",
       "    </tr>\n",
       "    <tr>\n",
       "      <th>12</th>\n",
       "      <td>2021</td>\n",
       "      <td>700</td>\n",
       "      <td>750</td>\n",
       "      <td>50</td>\n",
       "      <td>7.142857</td>\n",
       "    </tr>\n",
       "    <tr>\n",
       "      <th>13</th>\n",
       "      <td>2022</td>\n",
       "      <td>750</td>\n",
       "      <td>800</td>\n",
       "      <td>50</td>\n",
       "      <td>6.666667</td>\n",
       "    </tr>\n",
       "    <tr>\n",
       "      <th>14</th>\n",
       "      <td>2023</td>\n",
       "      <td>800</td>\n",
       "      <td>850</td>\n",
       "      <td>50</td>\n",
       "      <td>6.250000</td>\n",
       "    </tr>\n",
       "  </tbody>\n",
       "</table>\n",
       "</div>"
      ],
      "text/plain": [
       "    Year  Start_Price  End_Price  Price_Difference  YoY_Change\n",
       "0   2009          150        180                30   20.000000\n",
       "1   2010          180        200                20   11.111111\n",
       "2   2011          200        250                50   25.000000\n",
       "3   2012          250        300                50   20.000000\n",
       "4   2013          300        350                50   16.666667\n",
       "5   2014          350        400                50   14.285714\n",
       "6   2015          400        450                50   12.500000\n",
       "7   2016          450        500                50   11.111111\n",
       "8   2017          500        550                50   10.000000\n",
       "9   2018          550        600                50    9.090909\n",
       "10  2019          600        650                50    8.333333\n",
       "11  2020          650        700                50    7.692308\n",
       "12  2021          700        750                50    7.142857\n",
       "13  2022          750        800                50    6.666667\n",
       "14  2023          800        850                50    6.250000"
      ]
     },
     "execution_count": 15,
     "metadata": {},
     "output_type": "execute_result"
    }
   ],
   "source": [
    "\n",
    "\n",
    "# Assuming we have historical data for SBI shares, let's create a sample dataset for demonstration.\n",
    "# Ideally, this data should be fetched from a reliable financial data source.\n",
    "\n",
    "data = {\n",
    "    'Year': list(range(2009, 2024)),\n",
    "    'Start_Price': [150, 180, 200, 250, 300, 350, 400, 450, 500, 550, 600, 650, 700, 750, 800],\n",
    "    'End_Price':   [180, 200, 250, 300, 350, 400, 450, 500, 550, 600, 650, 700, 750, 800, 850]\n",
    "}\n",
    "\n",
    "# Convert to DataFrame\n",
    "df = pd.DataFrame(data)\n",
    "\n",
    "# Calculate price difference\n",
    "df['Price_Difference'] = (df['End_Price'] - df['Start_Price'])\n",
    "\n",
    "# Calculate YoY percentage change\n",
    "df['YoY_Change'] = ((df['End_Price'] - df['Start_Price']) / df['Start_Price']) * 100\n",
    "\n",
    "df\n"
   ]
  },
  {
   "cell_type": "code",
   "execution_count": 16,
   "id": "b62000dd-99aa-499b-a4f8-d964de5ca9ff",
   "metadata": {},
   "outputs": [
    {
     "data": {
      "text/plain": [
       "46.666666666666664"
      ]
     },
     "execution_count": 16,
     "metadata": {},
     "output_type": "execute_result"
    }
   ],
   "source": [
    "np.mean(df['Price_Difference'])"
   ]
  },
  {
   "cell_type": "code",
   "execution_count": 17,
   "id": "d30a7173-511b-4aa1-95d4-791bf0e1ec31",
   "metadata": {},
   "outputs": [
    {
     "data": {
      "text/plain": [
       "50.0"
      ]
     },
     "execution_count": 17,
     "metadata": {},
     "output_type": "execute_result"
    }
   ],
   "source": [
    "np.median(df['Price_Difference'])"
   ]
  },
  {
   "cell_type": "code",
   "execution_count": 18,
   "id": "1069b3b2-cea8-4569-a5dc-fe8dfd94cd71",
   "metadata": {},
   "outputs": [
    {
     "data": {
      "text/plain": [
       "ModeResult(mode=50, count=13)"
      ]
     },
     "execution_count": 18,
     "metadata": {},
     "output_type": "execute_result"
    }
   ],
   "source": [
    "st.mode(df['Price_Difference'])"
   ]
  },
  {
   "cell_type": "code",
   "execution_count": 19,
   "id": "68f5672d-840e-4b54-8ac2-79f7dc89d624",
   "metadata": {},
   "outputs": [
    {
     "data": {
      "text/plain": [
       "75.55555555555553"
      ]
     },
     "execution_count": 19,
     "metadata": {},
     "output_type": "execute_result"
    }
   ],
   "source": [
    "np.var(df['Price_Difference'])"
   ]
  },
  {
   "cell_type": "code",
   "execution_count": 20,
   "id": "3fde0730-ed5e-46c2-abd0-f5d14545e20b",
   "metadata": {},
   "outputs": [
    {
     "data": {
      "text/plain": [
       "8.69226987360353"
      ]
     },
     "execution_count": 20,
     "metadata": {},
     "output_type": "execute_result"
    }
   ],
   "source": [
    "np.std(df['Price_Difference'])"
   ]
  },
  {
   "cell_type": "code",
   "execution_count": 23,
   "id": "3a3ee298-7851-4c89-9662-87b344beaa84",
   "metadata": {},
   "outputs": [
    {
     "data": {
      "text/plain": [
       "[<matplotlib.lines.Line2D at 0x1499d1b0550>]"
      ]
     },
     "execution_count": 23,
     "metadata": {},
     "output_type": "execute_result"
    },
    {
     "data": {
      "image/png": "[encoded data removed]",
      "text/plain": [
       "<Figure size 640x480 with 1 Axes>"
      ]
     },
     "metadata": {},
     "output_type": "display_data"
    }
   ],
   "source": [
    "plt.plot(df['Year'], df['Price_Difference'])"
   ]
  },
  {
   "cell_type": "code",
   "execution_count": 27,
   "id": "bb94c601-8396-4a9a-9fd9-f7184da23764",
   "metadata": {},
   "outputs": [
    {
     "data": {
      "text/plain": [
       "[<matplotlib.lines.Line2D at 0x1499f51ffd0>]"
      ]
     },
     "execution_count": 27,
     "metadata": {},
     "output_type": "execute_result"
    },
    {
     "data": {
      "image/png": "[encoded data removed]",
      "text/plain": [
       "<Figure size 640x480 with 1 Axes>"
      ]
     },
     "metadata": {},
     "output_type": "display_data"
    }
   ],
   "source": [
    "plt.plot(df['Price_Difference'],df['Year'])"
   ]
  },
  {
   "cell_type": "code",
   "execution_count": null,
   "id": "c971a330-9b44-4480-9f43-0c9ac2e3913d",
   "metadata": {},
   "outputs": [],
   "source": []
  },
  {
   "cell_type": "code",
   "execution_count": null,
   "id": "79036bd9-a552-4c4e-bee9-cfb11e37ed00",
   "metadata": {},
   "outputs": [],
   "source": []
  },
  {
   "cell_type": "code",
   "execution_count": null,
   "id": "ead3dbb4-1267-4d87-8bdd-816128dd8e31",
   "metadata": {},
   "outputs": [],
   "source": []
  }
 ],
 "metadata": {
  "kernelspec": {
   "display_name": "Python 3 (ipykernel)",
   "language": "python",
   "name": "python3"
  },
  "language_info": {
   "codemirror_mode": {
    "name": "ipython",
    "version": 3
   },
   "file_extension": ".py",
   "mimetype": "text/x-python",
   "name": "python",
   "nbconvert_exporter": "python",
   "pygments_lexer": "ipython3",
   "version": "3.10.6"
  }
 },
 "nbformat": 4,
 "nbformat_minor": 5
}
